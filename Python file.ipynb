{
 "cells": [
  {
   "cell_type": "code",
   "execution_count": 2,
   "metadata": {},
   "outputs": [],
   "source": [
    "import os\n",
    "import pandas as pd\n",
    "import tqdm.notebook as tq"
   ]
  },
  {
   "cell_type": "markdown",
   "metadata": {},
   "source": [
    "Info about the columns"
   ]
  },
  {
   "cell_type": "markdown",
   "metadata": {},
   "source": [
    "https://data.police.uk/about/#columns"
   ]
  },
  {
   "cell_type": "markdown",
   "metadata": {},
   "source": [
    "## Making csv of all data"
   ]
  },
  {
   "cell_type": "code",
   "execution_count": null,
   "metadata": {},
   "outputs": [
    {
     "data": {
      "application/vnd.jupyter.widget-view+json": {
       "model_id": "a312d17daa43455ebfc59e7076df4d69",
       "version_major": 2,
       "version_minor": 0
      },
      "text/plain": [
       "HBox(children=(FloatProgress(value=0.0, max=131.0), HTML(value='')))"
      ]
     },
     "metadata": {},
     "output_type": "display_data"
    }
   ],
   "source": [
    "path = 'data\\\\Jan_2010_Oct_2021'\n",
    "\n",
    "files = os.listdir(path)\n",
    "\n",
    "i=0\n",
    "\n",
    "for f in tq.tqdm(files):\n",
    "    path2 = path + \"\\\\\" + f\n",
    "    files2 = os.listdir(path2)\n",
    "    for file in files2:\n",
    "        if file.endswith('street.csv'):\n",
    "            i += 1\n",
    "            df = pd.read_csv(path + '\\\\' + f + '\\\\' + file)\n",
    "            if i == 1:\n",
    "                df_total = df\n",
    "            else:\n",
    "                df_total = pd.concat([df_total, df])\n",
    "\n",
    "df_total.to_csv('data_streets.csv')"
   ]
  },
  {
   "cell_type": "code",
   "execution_count": null,
   "metadata": {},
   "outputs": [],
   "source": [
    "path = 'data\\\\Jan_2010_Oct_2021'\n",
    "\n",
    "files = os.listdir(path)\n",
    "\n",
    "i=0\n",
    "\n",
    "for f in tq.tqdm(files):\n",
    "    path2 = path + \"\\\\\" + f\n",
    "    files2 = os.listdir(path2)\n",
    "    for file in files2:\n",
    "        if file.endswith('outcomes.csv'):\n",
    "            i += 1\n",
    "            df = pd.read_csv(path + '\\\\' + f + '\\\\' + file)\n",
    "            if i == 1:\n",
    "                df_total = df\n",
    "            else:\n",
    "                df_total = pd.concat([df_total, df])\n",
    "\n",
    "df_total.to_csv('data_outcomes.csv')"
   ]
  },
  {
   "cell_type": "code",
   "execution_count": null,
   "metadata": {},
   "outputs": [],
   "source": [
    "path = 'data\\\\Jan_2010_Oct_2021'\n",
    "\n",
    "files = os.listdir(path)\n",
    "\n",
    "i=0\n",
    "\n",
    "for f in tq.tqdm(files):\n",
    "    path2 = path + \"\\\\\" + f\n",
    "    files2 = os.listdir(path2)\n",
    "    for file in files2:\n",
    "        if file.endswith('stop-and-search.csv'):\n",
    "            i += 1\n",
    "            df = pd.read_csv(path + '\\\\' + f + '\\\\' + file)\n",
    "            if i == 1:\n",
    "                df_total = df\n",
    "            else:\n",
    "                df_total = pd.concat([df_total, df])\n",
    "\n",
    "df_total.to_csv('data_stop_and_search.csv')"
   ]
  },
  {
   "cell_type": "markdown",
   "metadata": {},
   "source": [
    "## Looking at one year"
   ]
  },
  {
   "cell_type": "code",
   "execution_count": 36,
   "metadata": {},
   "outputs": [],
   "source": [
    "def year_data(year: int, type_: str):\n",
    "    path = 'data\\\\Jan_2010_Oct_2021'\n",
    "\n",
    "    files = os.listdir(path)\n",
    "\n",
    "    i=0\n",
    "\n",
    "    for file in tq.tqdm(files):\n",
    "        if file.startswith(str(year)):\n",
    "            path2 = path + \"\\\\\" + file\n",
    "            files2 = os.listdir(path2)\n",
    "            for file2 in files2:\n",
    "                if file2.endswith(type_ + '.csv'):\n",
    "                    i += 1\n",
    "                    df = pd.read_csv(path2 + '\\\\' + file2)\n",
    "                    if i == 1:\n",
    "                        df_total = df\n",
    "                    else:\n",
    "                        df_total = pd.concat([df_total, df])\n",
    "    return df_total"
   ]
  },
  {
   "cell_type": "code",
   "execution_count": 37,
   "metadata": {},
   "outputs": [
    {
     "data": {
      "application/vnd.jupyter.widget-view+json": {
       "model_id": "641b425031cc45c9a643681b3a8a9ef4",
       "version_major": 2,
       "version_minor": 0
      },
      "text/plain": [
       "HBox(children=(FloatProgress(value=0.0, max=131.0), HTML(value='')))"
      ]
     },
     "metadata": {},
     "output_type": "display_data"
    },
    {
     "name": "stdout",
     "output_type": "stream",
     "text": [
      "\n"
     ]
    }
   ],
   "source": [
    "df = year_data(2011, 'street')"
   ]
  },
  {
   "cell_type": "markdown",
   "metadata": {},
   "source": [
    "## Looking at one month"
   ]
  },
  {
   "cell_type": "code",
   "execution_count": 47,
   "metadata": {},
   "outputs": [],
   "source": [
    "def month_data(year: int, month: int, type_: str):\n",
    "    \n",
    "    if len(str(month)) == 2:\n",
    "        path = 'data\\\\Jan_2010_Oct_2021\\\\' + str(year) + '-' + str(month)\n",
    "    else:\n",
    "        path = 'data\\\\Jan_2010_Oct_2021\\\\' + str(year) + '-0' + str(month)\n",
    "\n",
    "    files = os.listdir(path)\n",
    "\n",
    "    i=0\n",
    "\n",
    "    for file in tq.tqdm(files):\n",
    "        if file.endswith(type_ + '.csv'):\n",
    "            i += 1\n",
    "            df = pd.read_csv(path + '\\\\' + file)\n",
    "            if i == 1:\n",
    "                df_total = df\n",
    "            else:\n",
    "                df_total = pd.concat([df_total, df])\n",
    "    return df_total"
   ]
  },
  {
   "cell_type": "code",
   "execution_count": 49,
   "metadata": {},
   "outputs": [
    {
     "name": "stdout",
     "output_type": "stream",
     "text": [
      "data\\Jan_2010_Oct_2021\\2020-01\n"
     ]
    },
    {
     "data": {
      "application/vnd.jupyter.widget-view+json": {
       "model_id": "7b65fba49ee04d84b395cfcba5d07703",
       "version_major": 2,
       "version_minor": 0
      },
      "text/plain": [
       "HBox(children=(FloatProgress(value=0.0, max=122.0), HTML(value='')))"
      ]
     },
     "metadata": {},
     "output_type": "display_data"
    },
    {
     "name": "stdout",
     "output_type": "stream",
     "text": [
      "\n"
     ]
    }
   ],
   "source": [
    "df = month_data(2020, 1, 'street')"
   ]
  }
 ],
 "metadata": {
  "kernelspec": {
   "display_name": "Python 3",
   "language": "python",
   "name": "python3"
  },
  "language_info": {
   "codemirror_mode": {
    "name": "ipython",
    "version": 3
   },
   "file_extension": ".py",
   "mimetype": "text/x-python",
   "name": "python",
   "nbconvert_exporter": "python",
   "pygments_lexer": "ipython3",
   "version": "3.8.3"
  }
 },
 "nbformat": 4,
 "nbformat_minor": 4
}
